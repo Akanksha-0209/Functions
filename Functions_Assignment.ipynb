{
  "nbformat": 4,
  "nbformat_minor": 0,
  "metadata": {
    "colab": {
      "provenance": []
    },
    "kernelspec": {
      "name": "python3",
      "display_name": "Python 3"
    },
    "language_info": {
      "name": "python"
    }
  },
  "cells": [
    {
      "cell_type": "markdown",
      "source": [
        "Theory Questions :\n",
        "\n",
        "**Que-1 : What is the difference between a function and a method in Python?**\n",
        "\n",
        "Ans - **Function** - A block of code that performs a specific task.\n",
        "\n",
        "Example : def greet():\n",
        "           return \"Hello\"\n",
        "\n",
        "**Method** - A function that is associated with an object or class.\n",
        "\n",
        "Example : my_list = [1,2,3,4]\n",
        "          mylist.append(5)\n",
        "here append is the method for the list object.\n",
        "\n",
        "Que-2 : Explain the concept of function arguments and parameters in Python.\n",
        "\n",
        "Ans - Parameters are the variables in the function definition.\n",
        "\n",
        "Arguments are the values passed to the function while calling it.\n",
        "\n",
        "Example : def add(a,b):\n",
        "          return a+b\n",
        "          add (3,5)\n",
        "\n",
        "here, a,b are parameters and 3,5 are arguments.\n",
        "\n",
        "Que-3 : What are the different ways to define and call a function in Python?\n",
        "\n",
        "Ans - Function define using `def`, `lambda`, or `functools.partial`.\n",
        "\n",
        "Function call using function name followed by parentheses.\n",
        "\n",
        "Example - def hello(): print(\"Hi!\")\n",
        "          \n",
        "Hello()\n",
        "\n",
        "Ques-4 : What is the purpose of the `return` statement in a Python function?\n",
        "\n",
        "Ans - The return statement is used to send the result from a function to the caller and to exit the function.\n",
        "\n",
        "Example: def add(a,b):\n",
        "return a+b\n",
        "result = add(3,4)\n",
        "print(result)\n",
        "\n",
        "Ques-5: What are iterators in Python and how do they differ from iterables?\n",
        "\n",
        "Ans - Iterable: Can be looped over (for example: list, string).\n",
        "\n",
        "Iterator: An object with a next() method.\n",
        "\n",
        "lst = [1, 2, 3]     # Iterable\n",
        "it = iter(lst)      # Iterator\n",
        "print(next(it))     # 1\n",
        "\n",
        "Ques-6: Explain the concept of generators in Python and how they are defined.\n",
        "\n",
        "Ans - Generators produce values using `yield`helpful for large datasets.\n",
        "\n",
        "Example : def gen()\n",
        "yield 1\n",
        "yield 2\n",
        "yield 3\n",
        "\n",
        "Que-7 : What are the advantages of using generators over regular functions?\n",
        "\n",
        "Ans - Generators are memory efficient.\n",
        "\n",
        "These are useful for large datasets.\n",
        "\n",
        "Que-8 :What is a lambda function in Python and when is it typically used?\n",
        "\n",
        "Ans - Lambda refers to an anonymous function used for short tasks. It is used when small functions are required for short period of time. It is typically used inside `map()`, `filter()` and `reduce()`\n",
        "\n",
        "Example : n = [1,2,3,4]\n",
        "squares = list(map(lambda x: x**2, nums))\n",
        "print(squares)  # [1,4,9,16]\n",
        "\n",
        "Que-9 : Explain the purpose and usage of the `map()` function in Python.\n",
        "\n",
        "Ans - A map function is used to apply a given function to every item in an iterable and then provide the results in new objects.\n",
        "\n",
        "Syntax = map (Function, Iterable)\n",
        "\n",
        "Example :  n = [1,2,3,4]\n",
        "squares = list(map(lambda x: x**2, nums))\n",
        "print(squares)  # [1,4,9,16]\n",
        "\n",
        "Ques-10 : What is the difference between `map()`, `reduce()`, and `filter()` functions in Python?\n",
        "\n",
        "Ans - `map()` - It applies a function to each item.\n",
        "\n",
        "`filter()` - It selects items meeting a condition whether it is true or false.\n",
        "\n",
        "`reduce()` - It applies a function cumulatively using `functools`.\n",
        "\n",
        "Example : from functools import reduce\n",
        "reduce(lambda x,y: x+y, [1,2,3]) #6\n",
        "\n",
        "Ques-11 : Using pen & paper, write the internal mechanism for sum operation using the reduce() function on the given list:\n",
        "[47, 11, 42, 13]\n",
        "\n",
        "Ans - Solution of this question is attached in doc file."
      ],
      "metadata": {
        "id": "8E10v4O-NPBl"
      }
    },
    {
      "cell_type": "markdown",
      "source": [
        "Practical Questions:\n",
        "\n",
        " Ques 1. Write a Python function that takes a list of numbers as input and returns the sum of all even numbers in\n",
        "the list."
      ],
      "metadata": {
        "id": "SW64DCdp8Ufz"
      }
    },
    {
      "cell_type": "code",
      "source": [
        "def sum_even(numbers):\n",
        "  return sum(num for num in numbers if num%2 == 0)\n",
        "\n",
        "print(sum_even([1,2,3,4,5,6,7,8]))"
      ],
      "metadata": {
        "colab": {
          "base_uri": "https://localhost:8080/"
        },
        "id": "2rt59PMQ8SZh",
        "outputId": "0d390bfb-9016-4996-c26c-4eb5e7aa4a3d"
      },
      "execution_count": null,
      "outputs": [
        {
          "output_type": "stream",
          "name": "stdout",
          "text": [
            "20\n"
          ]
        }
      ]
    },
    {
      "cell_type": "markdown",
      "source": [
        "Ques 2.Create a Python function that accepts a string and returns the reverse of that string.\n"
      ],
      "metadata": {
        "id": "YytdNNr5AplJ"
      }
    },
    {
      "cell_type": "code",
      "source": [
        "def reverse_string(s):\n",
        "  return s[::-1]\n",
        "print(reverse_string(\"Akanksha\"))"
      ],
      "metadata": {
        "colab": {
          "base_uri": "https://localhost:8080/"
        },
        "id": "vktBLB13AeRf",
        "outputId": "3a1afb60-69a8-4689-dbe0-6f88be9451be"
      },
      "execution_count": null,
      "outputs": [
        {
          "output_type": "stream",
          "name": "stdout",
          "text": [
            "ahsknakA\n"
          ]
        }
      ]
    },
    {
      "cell_type": "markdown",
      "source": [
        "Ques 3.Implement a Python function that takes a list of integers and returns a new list containing the squares of\n",
        "each number."
      ],
      "metadata": {
        "id": "F7BmFhPPBPog"
      }
    },
    {
      "cell_type": "code",
      "source": [
        "def square_list(integers):\n",
        "  return [num**2 for num in integers]\n",
        "\n",
        "print(square_list([1,2,3,4,5]))"
      ],
      "metadata": {
        "colab": {
          "base_uri": "https://localhost:8080/"
        },
        "id": "jwOpwYaoA-f0",
        "outputId": "04d02bdc-f421-44af-e84f-2579fd81bba1"
      },
      "execution_count": null,
      "outputs": [
        {
          "output_type": "stream",
          "name": "stdout",
          "text": [
            "[1, 4, 9, 16, 25]\n"
          ]
        }
      ]
    },
    {
      "cell_type": "markdown",
      "source": [
        "Ques 4. Write a Python function that checks if a given number is prime or not from 1 to 200.\n"
      ],
      "metadata": {
        "id": "MauY7q_fB_pJ"
      }
    },
    {
      "cell_type": "code",
      "source": [
        "def is_prime(n):\n",
        "  if n <= 1:\n",
        "    return False\n",
        "  for i in range(2, int(n**0.5)+1):\n",
        "    if n % i == 0:\n",
        "      return False\n",
        "  return True\n",
        "\n",
        "Prime_numbers = [num for num in range(1, 201) if is_prime(num)]\n",
        "print(Prime_numbers)"
      ],
      "metadata": {
        "colab": {
          "base_uri": "https://localhost:8080/"
        },
        "id": "s1ryl2r4B6xF",
        "outputId": "2ac92085-f626-4739-a796-1be34a32f053"
      },
      "execution_count": null,
      "outputs": [
        {
          "output_type": "stream",
          "name": "stdout",
          "text": [
            "[2, 3, 5, 7, 11, 13, 17, 19, 23, 29, 31, 37, 41, 43, 47, 53, 59, 61, 67, 71, 73, 79, 83, 89, 97, 101, 103, 107, 109, 113, 127, 131, 137, 139, 149, 151, 157, 163, 167, 173, 179, 181, 191, 193, 197, 199]\n"
          ]
        }
      ]
    },
    {
      "cell_type": "markdown",
      "source": [
        "Ques 5. Create an iterator class in Python that generates the Fibonacci sequence up to a specified number of\n",
        "terms."
      ],
      "metadata": {
        "id": "vouoQ39zErU9"
      }
    },
    {
      "cell_type": "code",
      "source": [
        "class Fibonacci:\n",
        "  def __init__(self,max_terms):\n",
        "    self.max_terms = max_terms\n",
        "    self.n1, self.n2 = 0,1\n",
        "    self.count = 0\n",
        "\n",
        "  def __iter__(self):\n",
        "    return self\n",
        "\n",
        "  def __next__(self):\n",
        "    if self.count < self.max_terms:\n",
        "      value = self.n1\n",
        "      self.n1, self.n2 = self.n2, self.n1 + self.n2\n",
        "      self.count += 1\n",
        "      return value\n",
        "    else:\n",
        "      raise StopIteration\n",
        "\n",
        "\n",
        "for num in Fibonacci(15):\n",
        "    print(num, end=' ')"
      ],
      "metadata": {
        "id": "oUI9IUYUENIh",
        "colab": {
          "base_uri": "https://localhost:8080/"
        },
        "outputId": "9742e0cb-e07c-46ba-adf2-1e2242b1bcd7"
      },
      "execution_count": 35,
      "outputs": [
        {
          "output_type": "stream",
          "name": "stdout",
          "text": [
            "0 1 1 2 3 5 8 13 21 34 55 89 144 233 377 "
          ]
        }
      ]
    },
    {
      "cell_type": "markdown",
      "source": [
        "Ques 6. Write a generator function in Python that yields the powers of 2 up to a given exponent.\n"
      ],
      "metadata": {
        "id": "KcaLXixjFft-"
      }
    },
    {
      "cell_type": "code",
      "source": [
        "def power_of_two(n):\n",
        "  for i in range(n+1):\n",
        "    yield 2**i\n",
        "\n",
        "for val in power_of_two(5):\n",
        "    print(val, end=' ')"
      ],
      "metadata": {
        "colab": {
          "base_uri": "https://localhost:8080/"
        },
        "id": "kIRdhOOCFm1u",
        "outputId": "64173f42-d630-4dbe-a1d2-f4c2e4d2ba2a"
      },
      "execution_count": null,
      "outputs": [
        {
          "output_type": "stream",
          "name": "stdout",
          "text": [
            "1 2 4 8 16 32 "
          ]
        }
      ]
    },
    {
      "cell_type": "markdown",
      "source": [
        "Ques 7. Implement a generator function that reads a file line by line and yields each line as a string.\n"
      ],
      "metadata": {
        "id": "ZCOpWAV00qGl"
      }
    },
    {
      "cell_type": "code",
      "source": [
        "with open(\"example.txt\", \"w\") as file:\n",
        "    file.write(\"Hello\\n\")\n",
        "    file.write(\"this is an assignment\\n\")\n",
        "    file.write(\"on python functions\\n\")\n",
        "\n",
        "def read_file_line_by_line(file_path):\n",
        "   with open(file_path, 'r') as file:\n",
        "    for line in file:\n",
        "      yield line.strip()\n",
        "\n",
        "for line in read_file_line_by_line(\"example.txt\"):\n",
        "    print(line)\n"
      ],
      "metadata": {
        "colab": {
          "base_uri": "https://localhost:8080/"
        },
        "id": "i9-amcjC3sTq",
        "outputId": "ded44b33-7de2-4265-e9a2-800af7242a25"
      },
      "execution_count": 34,
      "outputs": [
        {
          "output_type": "stream",
          "name": "stdout",
          "text": [
            "Hello\n",
            "this is an assignment\n",
            "on python functions\n"
          ]
        }
      ]
    },
    {
      "cell_type": "markdown",
      "source": [
        "Ques 8: Use a lambda function in Python to sort a list of tuples based on the second element of each tuple.\n"
      ],
      "metadata": {
        "id": "dx9w-vHO5O8H"
      }
    },
    {
      "cell_type": "code",
      "source": [
        "list_of_tuples = [(5,3),(4,5),(6,2)]\n",
        "sorted_data = sorted(list_of_tuples, key=lambda x: x[1])\n",
        "print(sorted_data)\n"
      ],
      "metadata": {
        "id": "4RNR3y1VGMpt",
        "colab": {
          "base_uri": "https://localhost:8080/"
        },
        "outputId": "cf70b2d7-cb9f-4cd1-b0cb-f3bf40753354"
      },
      "execution_count": null,
      "outputs": [
        {
          "output_type": "stream",
          "name": "stdout",
          "text": [
            "[(6, 2), (5, 3), (4, 5)]\n"
          ]
        }
      ]
    },
    {
      "cell_type": "markdown",
      "source": [
        "Ques 9: Write a Python program that uses `map()` to convert a list of temperatures from Celsius to Fahrenheit.\n"
      ],
      "metadata": {
        "id": "iZhAzHhy66fP"
      }
    },
    {
      "cell_type": "code",
      "source": [
        "celsius = [10,20,30,40]\n",
        "fahrenheit = list(map(lambda c: (c * 9/5)+ 32, celsius))\n",
        "print(fahrenheit)"
      ],
      "metadata": {
        "colab": {
          "base_uri": "https://localhost:8080/"
        },
        "id": "5GPLeUdH2B59",
        "outputId": "37cd4606-f6a0-45c1-97d4-dd190794bf53"
      },
      "execution_count": null,
      "outputs": [
        {
          "output_type": "stream",
          "name": "stdout",
          "text": [
            "[50.0, 68.0, 86.0, 104.0]\n"
          ]
        }
      ]
    },
    {
      "cell_type": "markdown",
      "source": [
        "Ques 10: Create a Python program that uses `filter()` to remove all the vowels from a given string.\n"
      ],
      "metadata": {
        "id": "J9en-eLr8pM9"
      }
    },
    {
      "cell_type": "code",
      "source": [
        "def remove_vowels(s):\n",
        "  return ''.join(filter(lambda x : x.lower() not in 'aeiou', s))\n",
        "\n",
        "print(remove_vowels(\"Python Functions\"))"
      ],
      "metadata": {
        "colab": {
          "base_uri": "https://localhost:8080/"
        },
        "id": "IFfdmbUw7pIv",
        "outputId": "321f9668-14a2-4882-ce72-c33062514ca1"
      },
      "execution_count": 32,
      "outputs": [
        {
          "output_type": "stream",
          "name": "stdout",
          "text": [
            "Pythn Fnctns\n"
          ]
        }
      ]
    },
    {
      "cell_type": "markdown",
      "source": [
        "Ques 11. Accounting problem\n",
        "\n",
        "Write a Python program, which returns a list with 2-tuples. Each tuple consists of the order number and the\n",
        "product of the price per item and the quantity. The product should be increased by 10,- € if the value of the\n",
        "order is smaller than 100,00 €.\n",
        " Write a Python program using lambda and map"
      ],
      "metadata": {
        "id": "o0nR13VG_CNR"
      }
    },
    {
      "cell_type": "code",
      "source": [
        "Orders = [[\"34587\", \"Learning python\", 4, 40.95],\n",
        "          [\"98762\", \"Programming Python\", 5, 56.80],\n",
        "          [\"77226\", \"Head First Python\", 3, 32.95],\n",
        "          [\"88112\", \"Einführung in Python3\", 3, 24.99]]\n",
        "\n",
        "\n",
        "result = list(map(lambda order: (order[0], order[2]* order[3] + 10 if order[2] * order[3] < 100 else order[2] * order[3]), Orders))\n",
        "\n",
        "print(result)\n"
      ],
      "metadata": {
        "colab": {
          "base_uri": "https://localhost:8080/"
        },
        "id": "ycaAHxCn963e",
        "outputId": "b56a6191-285c-4e42-a3aa-40e769755103"
      },
      "execution_count": 33,
      "outputs": [
        {
          "output_type": "stream",
          "name": "stdout",
          "text": [
            "[('34587', 163.8), ('98762', 284.0), ('77226', 108.85000000000001), ('88112', 84.97)]\n"
          ]
        }
      ]
    },
    {
      "cell_type": "code",
      "source": [],
      "metadata": {
        "id": "HV2GU2KuCGGs"
      },
      "execution_count": null,
      "outputs": []
    }
  ]
}